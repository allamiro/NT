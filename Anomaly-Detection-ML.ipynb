{
 "cells": [
  {
   "cell_type": "markdown",
   "id": "253b7546",
   "metadata": {},
   "source": [
    "# <center> <b><span style=\"color:blue\">Mchine Learning Strategy For Detecting Cyber attacks on Industrial Control Systems  (ICS)     </b> </span></center>\n",
    "\n",
    "## <b> <span><center>Tamir Suliman</b> </span></center>"
   ]
  },
  {
   "cell_type": "markdown",
   "id": "3a2276ab",
   "metadata": {},
   "source": [
    "## Import Libraries"
   ]
  },
  {
   "cell_type": "code",
   "execution_count": 21,
   "id": "599c4ee1",
   "metadata": {},
   "outputs": [],
   "source": [
    "import os\n",
    "import pandas as pd\n",
    "import numpy as np\n",
    "from pathlib import Path  \n",
    "from datetime import date\n",
    "import matplotlib.pyplot as plt\n",
    "%matplotlib inline\n",
    "import seaborn as sns\n",
    "from sklearn.ensemble import IsolationForest\n",
    "from sklearn.ensemble import RandomForestClassifier \n",
    "from statsmodels.tsa.vector_ar.var_model import VAR"
   ]
  },
  {
   "cell_type": "markdown",
   "id": "6ad71056",
   "metadata": {},
   "source": [
    "## Import Data from CSV File"
   ]
  },
  {
   "cell_type": "code",
   "execution_count": 3,
   "id": "0695549d",
   "metadata": {},
   "outputs": [],
   "source": [
    "PATH = 'https://raw.githubusercontent.com/icsdataset/hai/master/hai-21.03/test2.csv.gz'\n",
    "hai_data_orig = pd.read_csv(PATH, compression='gzip')\n",
    "\n",
    "predictors = hai_data_orig[['time','P1_B2004','P1_B2016','P1_B3004','P1_B3005','P1_B4002',\n",
    "                         'P1_FCV01D','P1_FCV03D','P1_FT03','P1_LCV01D','P1_LIT01',\n",
    "                         'P1_PCV01D','P1_PIT01','P2_ASD','P2_CO_rpm','P2_RTR','P2_SIT01',\n",
    "                         'P2_VTR01','P2_VTR02','P3_LCP01D','P4_HT_PS','P4_ST_PS','attack']]\n",
    "\n",
    "filepath = Path('dataset/hai_data1.csv')\n",
    "predictors.to_csv(filepath, index=False)\n",
    "hai_data = pd.read_csv(filepath,header=0,parse_dates=['time'], index_col='time') \n",
    "hai_data_r = pd.read_csv(filepath, parse_dates=['time'])"
   ]
  },
  {
   "cell_type": "code",
   "execution_count": 4,
   "id": "88e0a056",
   "metadata": {},
   "outputs": [
    {
     "data": {
      "text/html": [
       "<div>\n",
       "<style scoped>\n",
       "    .dataframe tbody tr th:only-of-type {\n",
       "        vertical-align: middle;\n",
       "    }\n",
       "\n",
       "    .dataframe tbody tr th {\n",
       "        vertical-align: top;\n",
       "    }\n",
       "\n",
       "    .dataframe thead th {\n",
       "        text-align: right;\n",
       "    }\n",
       "</style>\n",
       "<table border=\"1\" class=\"dataframe\">\n",
       "  <thead>\n",
       "    <tr style=\"text-align: right;\">\n",
       "      <th></th>\n",
       "      <th>P1_B2004</th>\n",
       "      <th>P1_B2016</th>\n",
       "      <th>P1_B3004</th>\n",
       "      <th>P1_B3005</th>\n",
       "      <th>P1_B4002</th>\n",
       "      <th>P1_FCV01D</th>\n",
       "      <th>P1_FCV03D</th>\n",
       "      <th>P1_FT03</th>\n",
       "      <th>P1_LCV01D</th>\n",
       "      <th>P1_LIT01</th>\n",
       "      <th>...</th>\n",
       "      <th>P2_ASD</th>\n",
       "      <th>P2_CO_rpm</th>\n",
       "      <th>P2_RTR</th>\n",
       "      <th>P2_SIT01</th>\n",
       "      <th>P2_VTR01</th>\n",
       "      <th>P2_VTR02</th>\n",
       "      <th>P3_LCP01D</th>\n",
       "      <th>P4_HT_PS</th>\n",
       "      <th>P4_ST_PS</th>\n",
       "      <th>attack</th>\n",
       "    </tr>\n",
       "    <tr>\n",
       "      <th>time</th>\n",
       "      <th></th>\n",
       "      <th></th>\n",
       "      <th></th>\n",
       "      <th></th>\n",
       "      <th></th>\n",
       "      <th></th>\n",
       "      <th></th>\n",
       "      <th></th>\n",
       "      <th></th>\n",
       "      <th></th>\n",
       "      <th></th>\n",
       "      <th></th>\n",
       "      <th></th>\n",
       "      <th></th>\n",
       "      <th></th>\n",
       "      <th></th>\n",
       "      <th></th>\n",
       "      <th></th>\n",
       "      <th></th>\n",
       "      <th></th>\n",
       "      <th></th>\n",
       "    </tr>\n",
       "  </thead>\n",
       "  <tbody>\n",
       "    <tr>\n",
       "      <th>2020-07-09 15:00:00</th>\n",
       "      <td>0.09874</td>\n",
       "      <td>1.25036</td>\n",
       "      <td>382.21698</td>\n",
       "      <td>1118.61084</td>\n",
       "      <td>32.0</td>\n",
       "      <td>92.69160</td>\n",
       "      <td>69.76647</td>\n",
       "      <td>315.48346</td>\n",
       "      <td>13.97231</td>\n",
       "      <td>384.30737</td>\n",
       "      <td>...</td>\n",
       "      <td>0</td>\n",
       "      <td>54065.0</td>\n",
       "      <td>2880</td>\n",
       "      <td>774.0</td>\n",
       "      <td>10</td>\n",
       "      <td>10</td>\n",
       "      <td>136</td>\n",
       "      <td>0</td>\n",
       "      <td>0</td>\n",
       "      <td>0</td>\n",
       "    </tr>\n",
       "    <tr>\n",
       "      <th>2020-07-09 15:00:01</th>\n",
       "      <td>0.09874</td>\n",
       "      <td>1.24944</td>\n",
       "      <td>382.21698</td>\n",
       "      <td>1118.61084</td>\n",
       "      <td>32.0</td>\n",
       "      <td>92.64934</td>\n",
       "      <td>69.74272</td>\n",
       "      <td>315.10199</td>\n",
       "      <td>13.93358</td>\n",
       "      <td>384.30737</td>\n",
       "      <td>...</td>\n",
       "      <td>0</td>\n",
       "      <td>54073.0</td>\n",
       "      <td>2880</td>\n",
       "      <td>773.0</td>\n",
       "      <td>10</td>\n",
       "      <td>10</td>\n",
       "      <td>136</td>\n",
       "      <td>0</td>\n",
       "      <td>0</td>\n",
       "      <td>0</td>\n",
       "    </tr>\n",
       "    <tr>\n",
       "      <th>2020-07-09 15:00:02</th>\n",
       "      <td>0.09874</td>\n",
       "      <td>1.24746</td>\n",
       "      <td>382.21698</td>\n",
       "      <td>1118.61084</td>\n",
       "      <td>32.0</td>\n",
       "      <td>92.91075</td>\n",
       "      <td>69.77000</td>\n",
       "      <td>316.05570</td>\n",
       "      <td>13.95248</td>\n",
       "      <td>384.20517</td>\n",
       "      <td>...</td>\n",
       "      <td>0</td>\n",
       "      <td>54073.0</td>\n",
       "      <td>2880</td>\n",
       "      <td>773.0</td>\n",
       "      <td>10</td>\n",
       "      <td>10</td>\n",
       "      <td>136</td>\n",
       "      <td>0</td>\n",
       "      <td>0</td>\n",
       "      <td>0</td>\n",
       "    </tr>\n",
       "    <tr>\n",
       "      <th>2020-07-09 15:00:03</th>\n",
       "      <td>0.09874</td>\n",
       "      <td>1.24624</td>\n",
       "      <td>382.21698</td>\n",
       "      <td>1118.61084</td>\n",
       "      <td>32.0</td>\n",
       "      <td>92.92407</td>\n",
       "      <td>69.70607</td>\n",
       "      <td>315.10199</td>\n",
       "      <td>13.89971</td>\n",
       "      <td>384.25626</td>\n",
       "      <td>...</td>\n",
       "      <td>0</td>\n",
       "      <td>54086.0</td>\n",
       "      <td>2880</td>\n",
       "      <td>777.0</td>\n",
       "      <td>10</td>\n",
       "      <td>10</td>\n",
       "      <td>136</td>\n",
       "      <td>0</td>\n",
       "      <td>0</td>\n",
       "      <td>0</td>\n",
       "    </tr>\n",
       "    <tr>\n",
       "      <th>2020-07-09 15:00:04</th>\n",
       "      <td>0.09874</td>\n",
       "      <td>1.24364</td>\n",
       "      <td>382.21698</td>\n",
       "      <td>1118.61084</td>\n",
       "      <td>32.0</td>\n",
       "      <td>93.05405</td>\n",
       "      <td>69.76971</td>\n",
       "      <td>315.48346</td>\n",
       "      <td>13.94603</td>\n",
       "      <td>384.20517</td>\n",
       "      <td>...</td>\n",
       "      <td>0</td>\n",
       "      <td>54086.0</td>\n",
       "      <td>2880</td>\n",
       "      <td>778.0</td>\n",
       "      <td>10</td>\n",
       "      <td>10</td>\n",
       "      <td>136</td>\n",
       "      <td>0</td>\n",
       "      <td>0</td>\n",
       "      <td>0</td>\n",
       "    </tr>\n",
       "  </tbody>\n",
       "</table>\n",
       "<p>5 rows × 22 columns</p>\n",
       "</div>"
      ],
      "text/plain": [
       "                     P1_B2004  P1_B2016   P1_B3004    P1_B3005  P1_B4002  \\\n",
       "time                                                                       \n",
       "2020-07-09 15:00:00   0.09874   1.25036  382.21698  1118.61084      32.0   \n",
       "2020-07-09 15:00:01   0.09874   1.24944  382.21698  1118.61084      32.0   \n",
       "2020-07-09 15:00:02   0.09874   1.24746  382.21698  1118.61084      32.0   \n",
       "2020-07-09 15:00:03   0.09874   1.24624  382.21698  1118.61084      32.0   \n",
       "2020-07-09 15:00:04   0.09874   1.24364  382.21698  1118.61084      32.0   \n",
       "\n",
       "                     P1_FCV01D  P1_FCV03D    P1_FT03  P1_LCV01D   P1_LIT01  \\\n",
       "time                                                                         \n",
       "2020-07-09 15:00:00   92.69160   69.76647  315.48346   13.97231  384.30737   \n",
       "2020-07-09 15:00:01   92.64934   69.74272  315.10199   13.93358  384.30737   \n",
       "2020-07-09 15:00:02   92.91075   69.77000  316.05570   13.95248  384.20517   \n",
       "2020-07-09 15:00:03   92.92407   69.70607  315.10199   13.89971  384.25626   \n",
       "2020-07-09 15:00:04   93.05405   69.76971  315.48346   13.94603  384.20517   \n",
       "\n",
       "                     ...  P2_ASD  P2_CO_rpm  P2_RTR  P2_SIT01  P2_VTR01  \\\n",
       "time                 ...                                                  \n",
       "2020-07-09 15:00:00  ...       0    54065.0    2880     774.0        10   \n",
       "2020-07-09 15:00:01  ...       0    54073.0    2880     773.0        10   \n",
       "2020-07-09 15:00:02  ...       0    54073.0    2880     773.0        10   \n",
       "2020-07-09 15:00:03  ...       0    54086.0    2880     777.0        10   \n",
       "2020-07-09 15:00:04  ...       0    54086.0    2880     778.0        10   \n",
       "\n",
       "                     P2_VTR02  P3_LCP01D  P4_HT_PS  P4_ST_PS  attack  \n",
       "time                                                                  \n",
       "2020-07-09 15:00:00        10        136         0         0       0  \n",
       "2020-07-09 15:00:01        10        136         0         0       0  \n",
       "2020-07-09 15:00:02        10        136         0         0       0  \n",
       "2020-07-09 15:00:03        10        136         0         0       0  \n",
       "2020-07-09 15:00:04        10        136         0         0       0  \n",
       "\n",
       "[5 rows x 22 columns]"
      ]
     },
     "execution_count": 4,
     "metadata": {},
     "output_type": "execute_result"
    }
   ],
   "source": [
    "hai_data.head()"
   ]
  },
  {
   "cell_type": "code",
   "execution_count": 19,
   "id": "c41516ba",
   "metadata": {},
   "outputs": [
    {
     "data": {
      "text/plain": [
       "pandas.core.indexes.datetimes.DatetimeIndex"
      ]
     },
     "execution_count": 19,
     "metadata": {},
     "output_type": "execute_result"
    }
   ],
   "source": [
    "type(hai_data.index)"
   ]
  },
  {
   "cell_type": "code",
   "execution_count": 23,
   "id": "1c2190ca",
   "metadata": {},
   "outputs": [
    {
     "data": {
      "text/plain": [
       "array([-1, -1, -1, ...,  1,  1,  1])"
      ]
     },
     "execution_count": 23,
     "metadata": {},
     "output_type": "execute_result"
    }
   ],
   "source": [
    "x = hai_data.values\n",
    "clf = IsolationForest(contamination=0.1)\n",
    "clf.fit_predict(x)"
   ]
  },
  {
   "cell_type": "code",
   "execution_count": 26,
   "id": "7f1fa6f9",
   "metadata": {},
   "outputs": [
    {
     "data": {
      "text/plain": [
       "array([-0.0163664 , -0.01058243, -0.00845421, ...,  0.07515441,\n",
       "        0.07847215,  0.06897121])"
      ]
     },
     "execution_count": 26,
     "metadata": {},
     "output_type": "execute_result"
    }
   ],
   "source": [
    "clf.decision_function(x)"
   ]
  },
  {
   "cell_type": "code",
   "execution_count": 27,
   "id": "49e8e0a1",
   "metadata": {},
   "outputs": [
    {
     "data": {
      "text/plain": [
       "[<matplotlib.lines.Line2D at 0x7f8f588b9d90>]"
      ]
     },
     "execution_count": 27,
     "metadata": {},
     "output_type": "execute_result"
    },
    {
     "data": {
      "image/png": "[encoded data removed]",
      "text/plain": [
       "<Figure size 432x288 with 1 Axes>"
      ]
     },
     "metadata": {
      "needs_background": "light"
     },
     "output_type": "display_data"
    }
   ],
   "source": [
    "dec_fun = clf.decision_function(x)\n",
    "plt.plot(dec_fun)"
   ]
  },
  {
   "cell_type": "code",
   "execution_count": 28,
   "id": "47274fb5",
   "metadata": {},
   "outputs": [
    {
     "data": {
      "text/html": [
       "<div>\n",
       "<style scoped>\n",
       "    .dataframe tbody tr th:only-of-type {\n",
       "        vertical-align: middle;\n",
       "    }\n",
       "\n",
       "    .dataframe tbody tr th {\n",
       "        vertical-align: top;\n",
       "    }\n",
       "\n",
       "    .dataframe thead th {\n",
       "        text-align: right;\n",
       "    }\n",
       "</style>\n",
       "<table border=\"1\" class=\"dataframe\">\n",
       "  <thead>\n",
       "    <tr style=\"text-align: right;\">\n",
       "      <th></th>\n",
       "      <th>P1_B2004</th>\n",
       "      <th>P1_B2016</th>\n",
       "      <th>P1_B3004</th>\n",
       "      <th>P1_B3005</th>\n",
       "      <th>P1_B4002</th>\n",
       "      <th>P1_FCV01D</th>\n",
       "      <th>P1_FCV03D</th>\n",
       "      <th>P1_FT03</th>\n",
       "      <th>P1_LCV01D</th>\n",
       "      <th>P1_LIT01</th>\n",
       "      <th>...</th>\n",
       "      <th>P2_CO_rpm</th>\n",
       "      <th>P2_RTR</th>\n",
       "      <th>P2_SIT01</th>\n",
       "      <th>P2_VTR01</th>\n",
       "      <th>P2_VTR02</th>\n",
       "      <th>P3_LCP01D</th>\n",
       "      <th>P4_HT_PS</th>\n",
       "      <th>P4_ST_PS</th>\n",
       "      <th>attack</th>\n",
       "      <th>health</th>\n",
       "    </tr>\n",
       "    <tr>\n",
       "      <th>time</th>\n",
       "      <th></th>\n",
       "      <th></th>\n",
       "      <th></th>\n",
       "      <th></th>\n",
       "      <th></th>\n",
       "      <th></th>\n",
       "      <th></th>\n",
       "      <th></th>\n",
       "      <th></th>\n",
       "      <th></th>\n",
       "      <th></th>\n",
       "      <th></th>\n",
       "      <th></th>\n",
       "      <th></th>\n",
       "      <th></th>\n",
       "      <th></th>\n",
       "      <th></th>\n",
       "      <th></th>\n",
       "      <th></th>\n",
       "      <th></th>\n",
       "      <th></th>\n",
       "    </tr>\n",
       "  </thead>\n",
       "  <tbody>\n",
       "    <tr>\n",
       "      <th>2020-07-09 15:00:00</th>\n",
       "      <td>0.09874</td>\n",
       "      <td>1.25036</td>\n",
       "      <td>382.21698</td>\n",
       "      <td>1118.61084</td>\n",
       "      <td>32.0</td>\n",
       "      <td>92.69160</td>\n",
       "      <td>69.76647</td>\n",
       "      <td>315.48346</td>\n",
       "      <td>13.97231</td>\n",
       "      <td>384.30737</td>\n",
       "      <td>...</td>\n",
       "      <td>54065.0</td>\n",
       "      <td>2880</td>\n",
       "      <td>774.0</td>\n",
       "      <td>10</td>\n",
       "      <td>10</td>\n",
       "      <td>136</td>\n",
       "      <td>0</td>\n",
       "      <td>0</td>\n",
       "      <td>0</td>\n",
       "      <td>-0.016366</td>\n",
       "    </tr>\n",
       "    <tr>\n",
       "      <th>2020-07-09 15:00:01</th>\n",
       "      <td>0.09874</td>\n",
       "      <td>1.24944</td>\n",
       "      <td>382.21698</td>\n",
       "      <td>1118.61084</td>\n",
       "      <td>32.0</td>\n",
       "      <td>92.64934</td>\n",
       "      <td>69.74272</td>\n",
       "      <td>315.10199</td>\n",
       "      <td>13.93358</td>\n",
       "      <td>384.30737</td>\n",
       "      <td>...</td>\n",
       "      <td>54073.0</td>\n",
       "      <td>2880</td>\n",
       "      <td>773.0</td>\n",
       "      <td>10</td>\n",
       "      <td>10</td>\n",
       "      <td>136</td>\n",
       "      <td>0</td>\n",
       "      <td>0</td>\n",
       "      <td>0</td>\n",
       "      <td>-0.010582</td>\n",
       "    </tr>\n",
       "    <tr>\n",
       "      <th>2020-07-09 15:00:02</th>\n",
       "      <td>0.09874</td>\n",
       "      <td>1.24746</td>\n",
       "      <td>382.21698</td>\n",
       "      <td>1118.61084</td>\n",
       "      <td>32.0</td>\n",
       "      <td>92.91075</td>\n",
       "      <td>69.77000</td>\n",
       "      <td>316.05570</td>\n",
       "      <td>13.95248</td>\n",
       "      <td>384.20517</td>\n",
       "      <td>...</td>\n",
       "      <td>54073.0</td>\n",
       "      <td>2880</td>\n",
       "      <td>773.0</td>\n",
       "      <td>10</td>\n",
       "      <td>10</td>\n",
       "      <td>136</td>\n",
       "      <td>0</td>\n",
       "      <td>0</td>\n",
       "      <td>0</td>\n",
       "      <td>-0.008454</td>\n",
       "    </tr>\n",
       "    <tr>\n",
       "      <th>2020-07-09 15:00:03</th>\n",
       "      <td>0.09874</td>\n",
       "      <td>1.24624</td>\n",
       "      <td>382.21698</td>\n",
       "      <td>1118.61084</td>\n",
       "      <td>32.0</td>\n",
       "      <td>92.92407</td>\n",
       "      <td>69.70607</td>\n",
       "      <td>315.10199</td>\n",
       "      <td>13.89971</td>\n",
       "      <td>384.25626</td>\n",
       "      <td>...</td>\n",
       "      <td>54086.0</td>\n",
       "      <td>2880</td>\n",
       "      <td>777.0</td>\n",
       "      <td>10</td>\n",
       "      <td>10</td>\n",
       "      <td>136</td>\n",
       "      <td>0</td>\n",
       "      <td>0</td>\n",
       "      <td>0</td>\n",
       "      <td>0.003507</td>\n",
       "    </tr>\n",
       "    <tr>\n",
       "      <th>2020-07-09 15:00:04</th>\n",
       "      <td>0.09874</td>\n",
       "      <td>1.24364</td>\n",
       "      <td>382.21698</td>\n",
       "      <td>1118.61084</td>\n",
       "      <td>32.0</td>\n",
       "      <td>93.05405</td>\n",
       "      <td>69.76971</td>\n",
       "      <td>315.48346</td>\n",
       "      <td>13.94603</td>\n",
       "      <td>384.20517</td>\n",
       "      <td>...</td>\n",
       "      <td>54086.0</td>\n",
       "      <td>2880</td>\n",
       "      <td>778.0</td>\n",
       "      <td>10</td>\n",
       "      <td>10</td>\n",
       "      <td>136</td>\n",
       "      <td>0</td>\n",
       "      <td>0</td>\n",
       "      <td>0</td>\n",
       "      <td>0.004625</td>\n",
       "    </tr>\n",
       "  </tbody>\n",
       "</table>\n",
       "<p>5 rows × 23 columns</p>\n",
       "</div>"
      ],
      "text/plain": [
       "                     P1_B2004  P1_B2016   P1_B3004    P1_B3005  P1_B4002  \\\n",
       "time                                                                       \n",
       "2020-07-09 15:00:00   0.09874   1.25036  382.21698  1118.61084      32.0   \n",
       "2020-07-09 15:00:01   0.09874   1.24944  382.21698  1118.61084      32.0   \n",
       "2020-07-09 15:00:02   0.09874   1.24746  382.21698  1118.61084      32.0   \n",
       "2020-07-09 15:00:03   0.09874   1.24624  382.21698  1118.61084      32.0   \n",
       "2020-07-09 15:00:04   0.09874   1.24364  382.21698  1118.61084      32.0   \n",
       "\n",
       "                     P1_FCV01D  P1_FCV03D    P1_FT03  P1_LCV01D   P1_LIT01  \\\n",
       "time                                                                         \n",
       "2020-07-09 15:00:00   92.69160   69.76647  315.48346   13.97231  384.30737   \n",
       "2020-07-09 15:00:01   92.64934   69.74272  315.10199   13.93358  384.30737   \n",
       "2020-07-09 15:00:02   92.91075   69.77000  316.05570   13.95248  384.20517   \n",
       "2020-07-09 15:00:03   92.92407   69.70607  315.10199   13.89971  384.25626   \n",
       "2020-07-09 15:00:04   93.05405   69.76971  315.48346   13.94603  384.20517   \n",
       "\n",
       "                     ...  P2_CO_rpm  P2_RTR  P2_SIT01  P2_VTR01  P2_VTR02  \\\n",
       "time                 ...                                                    \n",
       "2020-07-09 15:00:00  ...    54065.0    2880     774.0        10        10   \n",
       "2020-07-09 15:00:01  ...    54073.0    2880     773.0        10        10   \n",
       "2020-07-09 15:00:02  ...    54073.0    2880     773.0        10        10   \n",
       "2020-07-09 15:00:03  ...    54086.0    2880     777.0        10        10   \n",
       "2020-07-09 15:00:04  ...    54086.0    2880     778.0        10        10   \n",
       "\n",
       "                     P3_LCP01D  P4_HT_PS  P4_ST_PS  attack    health  \n",
       "time                                                                  \n",
       "2020-07-09 15:00:00        136         0         0       0 -0.016366  \n",
       "2020-07-09 15:00:01        136         0         0       0 -0.010582  \n",
       "2020-07-09 15:00:02        136         0         0       0 -0.008454  \n",
       "2020-07-09 15:00:03        136         0         0       0  0.003507  \n",
       "2020-07-09 15:00:04        136         0         0       0  0.004625  \n",
       "\n",
       "[5 rows x 23 columns]"
      ]
     },
     "execution_count": 28,
     "metadata": {},
     "output_type": "execute_result"
    }
   ],
   "source": [
    "hai_data['health'] = dec_fun\n",
    "hai_data.head()"
   ]
  },
  {
   "cell_type": "code",
   "execution_count": 29,
   "id": "ddad97a3",
   "metadata": {},
   "outputs": [
    {
     "data": {
      "text/plain": [
       "[<matplotlib.lines.Line2D at 0x7f8f5880bca0>]"
      ]
     },
     "execution_count": 29,
     "metadata": {},
     "output_type": "execute_result"
    },
    {
     "data": {
      "image/png": "[encoded data removed]",
      "text/plain": [
       "<Figure size 432x288 with 1 Axes>"
      ]
     },
     "metadata": {
      "needs_background": "light"
     },
     "output_type": "display_data"
    }
   ],
   "source": [
    "plt.plot(hai_data['health'])"
   ]
  },
  {
   "cell_type": "code",
   "execution_count": 33,
   "id": "2b621d6d",
   "metadata": {},
   "outputs": [
    {
     "data": {
      "text/plain": [
       "[<matplotlib.lines.Line2D at 0x7f8f58652d90>]"
      ]
     },
     "execution_count": 33,
     "metadata": {},
     "output_type": "execute_result"
    },
    {
     "data": {
      "image/png": "[encoded data removed]",
      "text/plain": [
       "<Figure size 432x288 with 1 Axes>"
      ]
     },
     "metadata": {
      "needs_background": "light"
     },
     "output_type": "display_data"
    }
   ],
   "source": [
    "plt.plot(hai_data['health'].resample('5T').mean())"
   ]
  },
  {
   "cell_type": "code",
   "execution_count": 39,
   "id": "36e49de9",
   "metadata": {},
   "outputs": [
    {
     "data": {
      "text/plain": [
       "<matplotlib.patches.Polygon at 0x7f8f584f7340>"
      ]
     },
     "execution_count": 39,
     "metadata": {},
     "output_type": "execute_result"
    },
    {
     "data": {
      "image/png": "[encoded data removed]",
      "text/plain": [
       "<Figure size 432x288 with 1 Axes>"
      ]
     },
     "metadata": {
      "needs_background": "light"
     },
     "output_type": "display_data"
    }
   ],
   "source": [
    "plt.plot(hai_data['health'].resample('5T').mean())\n",
    "plt.axhspan(-0.05,0.1 , alpha=.2 , color='red')"
   ]
  },
  {
   "cell_type": "code",
   "execution_count": null,
   "id": "d713ed99",
   "metadata": {},
   "outputs": [],
   "source": []
  }
 ],
 "metadata": {
  "kernelspec": {
   "display_name": "Python 3 (ipykernel)",
   "language": "python",
   "name": "python3"
  },
  "language_info": {
   "codemirror_mode": {
    "name": "ipython",
    "version": 3
   },
   "file_extension": ".py",
   "mimetype": "text/x-python",
   "name": "python",
   "nbconvert_exporter": "python",
   "pygments_lexer": "ipython3",
   "version": "3.9.7"
  }
 },
 "nbformat": 4,
 "nbformat_minor": 5
}
